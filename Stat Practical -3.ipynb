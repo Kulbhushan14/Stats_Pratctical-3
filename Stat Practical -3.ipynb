{
 "cells": [
  {
   "cell_type": "markdown",
   "id": "4850e636-e27e-4410-aaa7-46640ee0a63e",
   "metadata": {},
   "source": [
    "## Z Test  \n",
    " ## t Test\n",
    "## chi-square Test  "
   ]
  },
  {
   "cell_type": "code",
   "execution_count": null,
   "id": "7ae2f79e-60e1-4dc2-b21e-66ddcc3b4cc1",
   "metadata": {},
   "outputs": [],
   "source": [
    "import numpy as np\n",
    "import scipy.stats as stats\n"
   ]
  },
  {
   "cell_type": "code",
   "execution_count": 6,
   "id": "5d04b605-6692-4803-9ceb-57df1bf16909",
   "metadata": {},
   "outputs": [],
   "source": [
    "sample_mean=110\n",
    "Population_mean=100\n",
    "population_std=15\n",
    "sample_size=50\n",
    "alpha=0.05"
   ]
  },
  {
   "cell_type": "code",
   "execution_count": 10,
   "id": "632b7b45-e48d-49c1-9782-7f71cf5d310b",
   "metadata": {},
   "outputs": [],
   "source": [
    "Confidence_interval=1-alpha"
   ]
  },
  {
   "cell_type": "code",
   "execution_count": 11,
   "id": "3a47e51b-9fca-4092-9f01-9314b07b7893",
   "metadata": {},
   "outputs": [
    {
     "data": {
      "text/plain": [
       "0.95"
      ]
     },
     "execution_count": 11,
     "metadata": {},
     "output_type": "execute_result"
    }
   ],
   "source": [
    "Confidence_interval"
   ]
  },
  {
   "cell_type": "code",
   "execution_count": 26,
   "id": "1303fa8b-9b67-48a7-b368-79a2e8f7cc98",
   "metadata": {},
   "outputs": [],
   "source": [
    "z_score=(sample_mean-Population_mean)/(population_std/np.sqrt(sample_size))"
   ]
  },
  {
   "cell_type": "code",
   "execution_count": 27,
   "id": "60421dc4-de59-4074-a390-3f182d085eff",
   "metadata": {},
   "outputs": [
    {
     "data": {
      "text/plain": [
       "4.714045207910317"
      ]
     },
     "execution_count": 27,
     "metadata": {},
     "output_type": "execute_result"
    }
   ],
   "source": [
    "#Z score/value\n",
    "z_score"
   ]
  },
  {
   "cell_type": "code",
   "execution_count": 28,
   "id": "05856f04-1864-489b-91a7-0c622698930a",
   "metadata": {},
   "outputs": [],
   "source": [
    "# z Crictical  value\n",
    "z_crictical=stats.norm.ppf(Confidence_interval)"
   ]
  },
  {
   "cell_type": "code",
   "execution_count": 29,
   "id": "a03adc25-a743-4bbe-aef4-42868344e234",
   "metadata": {},
   "outputs": [
    {
     "data": {
      "text/plain": [
       "1.6448536269514722"
      ]
     },
     "execution_count": 29,
     "metadata": {},
     "output_type": "execute_result"
    }
   ],
   "source": [
    "z_crictical"
   ]
  },
  {
   "cell_type": "code",
   "execution_count": 30,
   "id": "759c870b-7018-4ca9-894d-217430198baf",
   "metadata": {},
   "outputs": [
    {
     "name": "stdout",
     "output_type": "stream",
     "text": [
      "Reject the Null hyphothesis\n"
     ]
    }
   ],
   "source": [
    "# check the which hyphothesis will to use or reject \n",
    "if z_score>z_crictical:\n",
    "    print(\"Reject the Null hyphothesis\")\n",
    "else:\n",
    "    print(\"Fail to reject the null hyphothesis\")"
   ]
  },
  {
   "cell_type": "code",
   "execution_count": 31,
   "id": "f3630958-619a-4f7b-8c88-ab0985f5b872",
   "metadata": {},
   "outputs": [],
   "source": [
    "p_value=1-0.9999966 #(Check the table for this value )"
   ]
  },
  {
   "cell_type": "code",
   "execution_count": 32,
   "id": "e410b9fa-e0b0-4711-92fb-be7543cf9a03",
   "metadata": {},
   "outputs": [
    {
     "data": {
      "text/plain": [
       "3.399999999986747e-06"
      ]
     },
     "execution_count": 32,
     "metadata": {},
     "output_type": "execute_result"
    }
   ],
   "source": [
    "p_value"
   ]
  },
  {
   "cell_type": "code",
   "execution_count": 33,
   "id": "678fd806-123a-46a5-b417-b27d522ec0a5",
   "metadata": {},
   "outputs": [
    {
     "name": "stdout",
     "output_type": "stream",
     "text": [
      "reject the null hyphothesis\n"
     ]
    }
   ],
   "source": [
    "if p_value<alpha:\n",
    "    print(\"reject the null hyphothesis\")\n",
    "else:\n",
    "    print(\"Fail to reject the null hyphothesis\")"
   ]
  },
  {
   "cell_type": "code",
   "execution_count": 34,
   "id": "03a7d3bf-895e-4c62-9794-8b32003ec4b8",
   "metadata": {},
   "outputs": [],
   "source": [
    "from numpy.random import randn\n",
    "mydata=randn(500)"
   ]
  },
  {
   "cell_type": "code",
   "execution_count": 35,
   "id": "e5b8b85e-1b21-4b62-a3d6-0f4e9a4a1ed9",
   "metadata": {},
   "outputs": [
    {
     "data": {
      "text/plain": [
       "array([ 2.57110249e+00, -2.05558483e-02, -2.68812353e-01, -7.66181529e-01,\n",
       "        1.05894758e+00, -8.46911198e-01, -1.60699653e+00, -1.93083880e-01,\n",
       "       -1.61391252e+00,  1.17221260e+00,  9.26803288e-01, -5.17470931e-01,\n",
       "        6.01004272e-01, -9.50794628e-01,  9.35779466e-01, -1.74180577e+00,\n",
       "       -3.38705861e-01, -6.72242826e-01,  1.42313923e+00,  4.94016141e-01,\n",
       "        1.20525380e-01,  4.88678276e-01,  1.27663490e+00,  1.44253932e+00,\n",
       "        1.55179390e-01, -1.60403797e+00, -1.48829931e-01, -8.34785962e-01,\n",
       "        1.77632466e+00,  4.84255331e-01,  1.81464716e+00,  3.14358270e-01,\n",
       "        7.57621235e-01, -6.46731026e-02, -4.59728980e-01,  6.90950404e-02,\n",
       "        1.09092509e-01, -2.36617606e-01, -9.07387277e-01,  6.17072090e-02,\n",
       "        4.33162697e-01, -1.19298418e-01,  3.60545118e-02,  3.55292363e-01,\n",
       "        5.60002028e-02, -2.92682843e-01,  6.85569471e-01,  2.71800043e-01,\n",
       "       -4.86025879e-01, -2.50009220e-01, -1.67020538e-01,  4.35454684e-01,\n",
       "       -2.03752455e+00, -2.11892918e+00, -3.63446875e-01, -9.72695370e-01,\n",
       "       -4.95171086e-01,  7.31194998e-01,  1.60978345e+00,  5.05726465e-01,\n",
       "       -1.96891525e-01,  7.00270815e-01, -2.52435255e+00,  6.84737992e-01,\n",
       "       -5.84538279e-01, -2.66268803e-01,  8.48218002e-02,  1.43069493e-01,\n",
       "       -4.70744684e-01,  5.57540366e-01,  1.41461909e-01,  1.29739126e+00,\n",
       "        2.97661803e-01,  8.28578408e-01,  1.29698416e-01,  4.23811061e-01,\n",
       "       -1.12005140e-01,  5.55641391e-01, -4.73526527e-02, -8.90249942e-01,\n",
       "        2.10830411e+00,  9.51324717e-01, -1.48937544e+00,  3.88948249e-03,\n",
       "       -7.67881326e-02, -6.21017268e-02, -1.37349118e-01, -1.39327421e+00,\n",
       "       -4.22735924e-01, -7.63401970e-01, -6.45841964e-01, -1.80154181e+00,\n",
       "       -1.80713783e+00,  5.61695829e-01,  8.52392146e-01, -4.71859407e-01,\n",
       "        4.92904662e-01, -1.56134678e+00, -8.40918732e-01, -1.64696460e-01,\n",
       "       -4.56103338e-01,  1.08459252e+00,  2.44576599e-01,  9.61512716e-01,\n",
       "       -1.48254086e-01, -1.68056604e+00,  3.06258733e-01, -3.85962240e-01,\n",
       "        1.21325941e+00, -1.42746191e+00,  9.71389770e-01,  1.82464160e+00,\n",
       "        1.41634095e+00, -2.34128309e+00, -8.58841014e-01, -1.26742389e+00,\n",
       "        4.92118018e-01,  2.23833931e+00, -4.20837801e-01, -2.95141976e+00,\n",
       "        1.37559036e+00, -1.44727615e+00, -1.40518658e+00, -1.90441802e+00,\n",
       "       -1.47875487e+00, -1.82044813e+00, -4.00234565e-01, -2.19307643e+00,\n",
       "       -2.86900933e+00,  2.61029326e-01,  1.85577183e+00, -1.70021730e-01,\n",
       "        1.07693355e+00, -5.35569438e-01,  8.54180538e-01,  7.40562896e-01,\n",
       "        8.16985850e-03, -6.73410553e-01,  6.44478759e-01, -2.70272400e-01,\n",
       "       -4.44241185e-01,  7.88570681e-01,  1.56384060e-01,  6.25703722e-01,\n",
       "        3.88252870e-02, -2.49412075e-01, -9.03961697e-01,  1.52304475e+00,\n",
       "        2.99960086e-01,  1.30906202e+00, -6.26485297e-01, -1.81039131e+00,\n",
       "       -1.55845546e+00, -3.28342356e-02,  1.07525366e+00, -5.32333293e-02,\n",
       "        4.63959318e-01, -3.34262075e-01,  3.63342621e-01,  1.46936595e+00,\n",
       "       -1.85397424e+00,  4.20388982e-01, -8.77086487e-03, -4.19275400e-01,\n",
       "       -2.75022836e-01,  3.52427083e-02,  7.50548927e-01, -6.72695819e-01,\n",
       "       -3.41639264e-01, -1.15677689e+00,  8.85816143e-01,  1.54200980e+00,\n",
       "        1.62444089e-01,  5.92829268e-01,  1.82122752e+00, -6.65326380e-01,\n",
       "       -1.16639495e+00,  1.45627803e-01, -1.19956597e+00,  2.70411827e-01,\n",
       "       -9.80989454e-01,  2.18809217e+00,  5.68829341e-01, -1.29794435e+00,\n",
       "       -1.76181716e+00, -6.94956836e-01,  7.38579066e-02,  7.22863342e-01,\n",
       "       -1.50413935e+00,  9.35009143e-01,  1.54100105e+00,  1.90795079e-01,\n",
       "       -4.19278525e-01, -1.42185493e+00, -6.47844245e-01,  3.06776688e-01,\n",
       "       -2.13269417e+00, -4.81620433e-02, -6.38568024e-02, -8.05363705e-01,\n",
       "       -1.33195388e+00,  8.08764731e-01, -2.32114132e+00,  7.41506240e-01,\n",
       "       -3.63659802e-01, -3.47760566e-01, -6.01884518e-01, -8.33580082e-01,\n",
       "        4.76880230e-01,  3.33879000e+00,  8.27490408e-01,  4.78606671e-01,\n",
       "       -6.59808182e-01, -1.18585170e+00, -2.16846453e+00, -6.59117845e-01,\n",
       "       -3.70307526e-01,  5.70198563e-01, -2.14688461e+00, -1.12256216e+00,\n",
       "        8.98599302e-02, -1.07348916e+00,  6.15163208e-01, -1.09638867e+00,\n",
       "       -3.38653720e-01, -6.80482668e-01,  1.79007116e-01,  7.27466750e-01,\n",
       "       -9.84355000e-01,  1.45103520e+00,  1.39251786e-01, -2.73864345e-02,\n",
       "       -1.40795954e+00, -4.90399593e-01,  5.54411556e-01,  9.27363848e-02,\n",
       "       -2.26208859e-01, -1.29954725e+00,  9.92689501e-01, -1.72103839e-01,\n",
       "        1.00543943e-01, -4.82842072e-01,  5.64069316e-01, -6.36883553e-01,\n",
       "       -2.70614440e-02, -3.58610498e-01,  5.48859121e-01,  2.57228580e-01,\n",
       "        4.40048333e-01,  1.17435262e+00,  9.16148465e-01, -1.51854255e+00,\n",
       "        2.24672332e-01, -1.20937488e+00,  4.50828813e-02,  1.16501433e+00,\n",
       "        2.45290500e-01, -7.44697871e-01, -1.21579838e-01,  9.16520053e-01,\n",
       "        1.53287519e+00, -4.98750117e-01,  7.67056303e-01, -6.90358494e-01,\n",
       "        3.92375455e-01, -1.43533522e+00, -3.06685618e-01,  1.16463673e+00,\n",
       "       -2.84165429e-01,  9.91948135e-01, -1.62019655e-01, -1.00473797e+00,\n",
       "        6.45103140e-01,  9.52521846e-02, -2.32818565e+00, -8.07331937e-02,\n",
       "       -1.13073259e+00, -1.20464330e+00,  5.91222149e-01,  6.32674115e-01,\n",
       "        3.50782186e-01,  2.22157501e+00, -3.42317523e-01,  1.95724148e+00,\n",
       "        8.57453088e-01, -3.57272267e-02,  4.05786095e-01, -9.69898280e-02,\n",
       "       -1.37456500e+00,  3.41300506e-01, -8.07308955e-01,  1.79411385e+00,\n",
       "       -1.67428939e+00,  9.83354952e-01,  8.42515018e-01, -9.38512431e-01,\n",
       "        5.24439069e-01, -5.76920196e-01,  3.66569308e-01, -1.23176445e+00,\n",
       "       -1.02326636e+00,  4.77040451e-01,  2.86251035e-01, -1.45997205e+00,\n",
       "       -1.93167102e-01,  1.08664200e+00, -3.56434537e-01,  6.16515670e-01,\n",
       "        1.33191283e+00,  1.50674631e+00, -6.17041160e-01,  4.97687442e-01,\n",
       "        4.79572542e-01, -9.57674579e-02,  5.01692005e-01,  3.70135350e-01,\n",
       "       -3.36584851e-01, -5.09276879e-01,  8.96980299e-01, -2.47244750e+00,\n",
       "       -5.58195842e-01, -3.06602414e-01,  4.52930526e-01, -9.66629534e-01,\n",
       "        6.82305563e-01, -5.46111393e-01, -5.10070256e-01,  8.06599661e-01,\n",
       "        1.74169650e+00, -2.41835776e-02,  1.86451143e+00, -5.57806521e-01,\n",
       "       -1.13971338e+00,  3.06193107e-01,  5.59459665e-01, -2.39430561e-01,\n",
       "        1.17340394e+00, -6.85728198e-01, -5.50663617e-01, -2.78029989e+00,\n",
       "       -2.06938838e+00,  2.15250868e-01,  1.75161955e+00,  1.50050135e+00,\n",
       "        8.78489933e-01, -2.55669654e-01, -1.08058066e+00, -9.01066187e-01,\n",
       "       -2.17427923e+00,  2.59989169e-01,  4.22186766e-02,  4.99179342e-01,\n",
       "       -9.31105015e-01,  2.50165883e-01,  7.32588606e-02, -3.51832299e-01,\n",
       "       -6.39349898e-01, -1.01113449e-01, -1.64921826e+00,  1.25603248e+00,\n",
       "       -1.45706068e-01,  2.11278082e-03, -1.76125842e+00,  1.30815093e+00,\n",
       "       -2.79804047e+00, -3.30174442e-01, -7.16988431e-01, -4.77850352e-01,\n",
       "       -2.85679325e-01,  1.71946103e-01, -4.89809481e-01,  2.68400583e-01,\n",
       "       -4.95323266e-01,  1.80303507e+00, -3.57417331e-01,  1.92341661e+00,\n",
       "       -9.66819996e-01, -1.06480626e+00,  1.67200997e+00,  1.12682777e+00,\n",
       "        6.39014010e-01, -2.84779033e-01,  7.88804037e-01, -5.46545137e-01,\n",
       "       -8.11439113e-02,  4.19347316e-01, -9.64941361e-01, -1.03273849e+00,\n",
       "        2.02244552e+00,  6.94687807e-01, -7.46606482e-02, -1.15626473e+00,\n",
       "       -2.78943779e-01,  8.90653914e-01,  7.02270781e-01,  1.00138259e+00,\n",
       "        2.11072509e+00, -4.49025788e-01, -1.47455781e-02, -7.57592559e-01,\n",
       "        8.64086725e-01, -3.31125836e-02, -7.71791331e-01,  1.68650875e+00,\n",
       "        5.93237724e-01, -1.48193086e+00,  9.86471292e-01,  9.23558940e-01,\n",
       "       -6.50659098e-01,  2.27220405e-01,  3.06147585e+00, -1.72884808e+00,\n",
       "       -4.54651089e-01, -6.05138373e-01,  1.20586873e+00, -1.22164892e+00,\n",
       "        2.78337410e-02,  7.59115887e-01, -7.26867818e-01, -4.17639533e-01,\n",
       "        1.06382588e+00, -1.14245244e+00,  7.57069198e-01, -4.56266864e-01,\n",
       "        8.14171913e-01, -2.15699725e+00, -1.23278601e-01,  1.05485365e+00,\n",
       "       -1.36610125e-01, -6.60484152e-01,  2.17863141e-01,  6.64542477e-01,\n",
       "       -5.72862130e-01,  6.75138083e-01,  1.34289961e+00, -1.73332695e+00,\n",
       "        8.36895469e-01, -1.71610723e+00, -1.10762406e+00, -6.78744657e-01,\n",
       "       -8.01706045e-01, -1.91565478e+00, -7.24078003e-01,  8.77370962e-01,\n",
       "       -1.84343546e-01,  2.02485536e-01,  1.51202843e-01,  4.12899787e-01,\n",
       "        1.15312048e+00, -2.25228043e-01,  1.45487212e+00,  1.41483582e+00,\n",
       "        2.21766851e-01, -7.64964850e-01, -9.54082924e-01, -1.35238232e+00,\n",
       "       -4.22208864e-01, -8.98162682e-01,  7.32772306e-01, -5.95810882e-02,\n",
       "        1.28571623e+00, -6.32128088e-01,  5.10239407e-01, -6.82442154e-02,\n",
       "       -4.34224409e-01, -1.66082773e+00, -1.02000023e+00, -3.64892215e-01,\n",
       "        1.70867278e+00,  8.36121247e-01,  6.13682962e-01,  4.86952069e-01,\n",
       "       -1.78327510e+00, -1.53364309e-01, -6.16821567e-01,  4.66293373e-01,\n",
       "        2.80229987e-01,  9.11011498e-01,  1.28388903e-01, -1.13597716e+00,\n",
       "        1.96564401e+00, -7.65876544e-01, -2.43999957e-02, -3.32420327e-01,\n",
       "        6.99309616e-01,  2.48837530e-01, -1.01578197e+00,  8.92441230e-01,\n",
       "        9.00440905e-01, -1.27518858e+00,  2.34585723e+00, -1.38213549e+00,\n",
       "       -6.09184977e-01, -8.40458112e-01, -8.01628938e-02, -8.54639530e-01,\n",
       "       -6.93948043e-01,  1.28705849e-01, -1.09885444e+00, -3.61609814e-01])"
      ]
     },
     "execution_count": 35,
     "metadata": {},
     "output_type": "execute_result"
    }
   ],
   "source": [
    "mydata"
   ]
  },
  {
   "cell_type": "code",
   "execution_count": 36,
   "id": "c498c516-52bc-4408-a9a3-dcbe45739b87",
   "metadata": {},
   "outputs": [],
   "source": [
    "import seaborn as sns"
   ]
  },
  {
   "cell_type": "code",
   "execution_count": 39,
   "id": "e21cf9b8-6877-424b-b5f3-dc9f3fd50594",
   "metadata": {},
   "outputs": [
    {
     "name": "stderr",
     "output_type": "stream",
     "text": [
      "C:\\Users\\Admin\\AppData\\Local\\Temp\\ipykernel_9464\\2553040580.py:1: UserWarning: \n",
      "\n",
      "`distplot` is a deprecated function and will be removed in seaborn v0.14.0.\n",
      "\n",
      "Please adapt your code to use either `displot` (a figure-level function with\n",
      "similar flexibility) or `histplot` (an axes-level function for histograms).\n",
      "\n",
      "For a guide to updating your code to use the new functions, please see\n",
      "https://gist.github.com/mwaskom/de44147ed2974457ad6372750bbe5751\n",
      "\n",
      "  sns.distplot(mydata)\n",
      "C:\\Users\\Admin\\anaconda3\\Lib\\site-packages\\seaborn\\_oldcore.py:1119: FutureWarning: use_inf_as_na option is deprecated and will be removed in a future version. Convert inf values to NaN before operating instead.\n",
      "  with pd.option_context('mode.use_inf_as_na', True):\n"
     ]
    },
    {
     "data": {
      "text/plain": [
       "<Axes: ylabel='Density'>"
      ]
     },
     "execution_count": 39,
     "metadata": {},
     "output_type": "execute_result"
    },
    {
     "data": {
      "image/png": "[encoded data removed]",
      "text/plain": [
       "<Figure size 640x480 with 1 Axes>"
      ]
     },
     "metadata": {},
     "output_type": "display_data"
    }
   ],
   "source": [
    "sns.distplot(mydata)"
   ]
  },
  {
   "cell_type": "code",
   "execution_count": 40,
   "id": "3e5e1b61-6963-4005-abd8-8fdda65b3249",
   "metadata": {},
   "outputs": [
    {
     "data": {
      "text/plain": [
       "NormaltestResult(statistic=0.30203451865993125, pvalue=0.8598328583921211)"
      ]
     },
     "execution_count": 40,
     "metadata": {},
     "output_type": "execute_result"
    }
   ],
   "source": [
    "from scipy import stats\n",
    "stats. normaltest(mydata)"
   ]
  },
  {
   "cell_type": "code",
   "execution_count": 41,
   "id": "038e81c0-7c7f-4357-a978-0333bc37a9a3",
   "metadata": {},
   "outputs": [],
   "source": [
    "sample_population=110\n",
    "alph=0.05\n",
    "CI=0.95\n",
    "Mean_population=100\n",
    "population_std=15"
   ]
  },
  {
   "cell_type": "code",
   "execution_count": 44,
   "id": "66206006-e24d-4a47-aee9-162ec67a6707",
   "metadata": {},
   "outputs": [],
   "source": [
    "data=population_std*randn(50)+sample_population"
   ]
  },
  {
   "cell_type": "code",
   "execution_count": 45,
   "id": "f80e347f-ff39-4670-9fb0-aa4d1e88ff5c",
   "metadata": {},
   "outputs": [
    {
     "data": {
      "text/plain": [
       "array([111.73289959, 132.23355346, 108.6208371 , 101.94579675,\n",
       "       126.57383843,  86.44007825, 137.58042974, 101.65778533,\n",
       "       123.71946844, 102.27933701, 122.69366429,  98.62723899,\n",
       "       120.07513958, 106.99927941, 119.00475451,  79.25359739,\n",
       "       113.48116816, 101.68194056,  82.75962737, 125.70709821,\n",
       "        75.44420376, 103.04393593, 118.15038928,  89.46157859,\n",
       "       101.11571733, 120.12155895,  98.39753873,  69.83252893,\n",
       "       114.76312672, 125.41890993, 136.81568455,  86.65214705,\n",
       "       116.07311836, 130.37138585, 101.75743335, 102.3554608 ,\n",
       "        89.85341409, 102.10298137, 133.99646846, 134.16783566,\n",
       "       101.37664309, 109.58432254, 116.17370106, 146.61588726,\n",
       "       105.99281817, 116.51811235,  93.59219082,  99.86901457,\n",
       "       114.06151514,  98.85987958])"
      ]
     },
     "execution_count": 45,
     "metadata": {},
     "output_type": "execute_result"
    }
   ],
   "source": [
    "data"
   ]
  },
  {
   "cell_type": "code",
   "execution_count": 49,
   "id": "b68e14ac-ee71-4525-bfae-6752283d986d",
   "metadata": {},
   "outputs": [
    {
     "data": {
      "text/plain": [
       "109.11214069681682"
      ]
     },
     "execution_count": 49,
     "metadata": {},
     "output_type": "execute_result"
    }
   ],
   "source": [
    "np.mean(data)"
   ]
  },
  {
   "cell_type": "code",
   "execution_count": 50,
   "id": "e0c52d80-8a68-4e6a-b7ec-434d3d3161bb",
   "metadata": {},
   "outputs": [
    {
     "data": {
      "text/plain": [
       "16.938482570096532"
      ]
     },
     "execution_count": 50,
     "metadata": {},
     "output_type": "execute_result"
    }
   ],
   "source": [
    "np.std(data)"
   ]
  },
  {
   "cell_type": "code",
   "execution_count": 51,
   "id": "950f750e-ead0-498a-9ca9-ba3870edebbf",
   "metadata": {},
   "outputs": [],
   "source": [
    "null_hyphothesis=Mean_population"
   ]
  },
  {
   "cell_type": "code",
   "execution_count": 52,
   "id": "aacf9d2a-9d42-4349-8a69-8e7ff47bbce7",
   "metadata": {},
   "outputs": [
    {
     "data": {
      "text/plain": [
       "(3.7656847131232865, 8.304663917853244e-05)"
      ]
     },
     "execution_count": 52,
     "metadata": {},
     "output_type": "execute_result"
    }
   ],
   "source": [
    "from statsmodels.stats.weightstats import ztest\n",
    "ztest(data,value=null_hyphothesis,alternative=\"larger\")"
   ]
  },
  {
   "cell_type": "code",
   "execution_count": 53,
   "id": "fcac2293-c2b6-4624-8bc8-bee8a9fe8357",
   "metadata": {},
   "outputs": [
    {
     "name": "stdout",
     "output_type": "stream",
     "text": [
      "reject the null hyphothesis\n"
     ]
    }
   ],
   "source": [
    "if p_value<alpha:\n",
    "    print(\"reject the null hyphothesis\")\n",
    "else:\n",
    "    print(\"Fail to reject the null hyphothesis\")"
   ]
  },
  {
   "cell_type": "markdown",
   "id": "98160b81-d5a5-44fa-9a9a-9c59177ce7d4",
   "metadata": {},
   "source": [
    "# T- Test "
   ]
  },
  {
   "cell_type": "markdown",
   "id": "305d658f-f552-403a-b8bc-f95824b5d773",
   "metadata": {},
   "source": [
    "###### One-sample t test== (with respect to one independent smaple)\n",
    "###### Two smaple t test == (with respect to two independent smaple)\n",
    "###### paried t test == (two smaple with same population on a different time interval )"
   ]
  },
  {
   "cell_type": "markdown",
   "id": "c53e98ee-7746-4a8b-a6f5-ebc209e27fdd",
   "metadata": {},
   "source": [
    "### When we perform the T test?\n",
    "if we have a limited sample size and should be less than 30 && population standard devision is messing then we perform the t-Test "
   ]
  },
  {
   "cell_type": "code",
   "execution_count": 57,
   "id": "8d84890d-8175-448c-8ccc-dfd5afb1ed66",
   "metadata": {},
   "outputs": [],
   "source": [
    "cricket_score=[22,38,19,15,48,11,10,49,47,38,10,25,46,10,21,24,29,36,25,25]"
   ]
  },
  {
   "cell_type": "code",
   "execution_count": 58,
   "id": "bf5e04c4-970a-4784-ad27-1136e93277a2",
   "metadata": {},
   "outputs": [
    {
     "data": {
      "text/plain": [
       "27.4"
      ]
     },
     "execution_count": 58,
     "metadata": {},
     "output_type": "execute_result"
    }
   ],
   "source": [
    "np.mean(cricket_score)"
   ]
  },
  {
   "cell_type": "code",
   "execution_count": null,
   "id": "0beaf849-914e-4b72-918f-9ddb35e8c840",
   "metadata": {},
   "outputs": [],
   "source": [
    "hyphothesis=poplation_mean=sample_mean that should be 27."
   ]
  },
  {
   "cell_type": "code",
   "execution_count": 61,
   "id": "bc0950c7-3dab-48dc-93f7-f2458a803d98",
   "metadata": {},
   "outputs": [],
   "source": [
    "import scipy\n",
    "result=scipy.stats.ttest_1samp(circket_score,15)"
   ]
  },
  {
   "cell_type": "code",
   "execution_count": 64,
   "id": "21e6697f-cfc7-4d97-b5d1-4bf700c53716",
   "metadata": {},
   "outputs": [
    {
     "data": {
      "text/plain": [
       "0.0005672503150661017"
      ]
     },
     "execution_count": 64,
     "metadata": {},
     "output_type": "execute_result"
    }
   ],
   "source": [
    "result[1] ## p value "
   ]
  },
  {
   "cell_type": "code",
   "execution_count": 65,
   "id": "52f82dc2-3f1b-4d38-af01-5cbc102d3812",
   "metadata": {},
   "outputs": [
    {
     "name": "stdout",
     "output_type": "stream",
     "text": [
      "reject the null hyphothesis\n"
     ]
    }
   ],
   "source": [
    "if p_value<=0.05:\n",
    "    print(\"reject the null hyphothesis\")\n",
    "\n",
    "else:\n",
    "    print(\"accept the null hyphthesis\")"
   ]
  },
  {
   "cell_type": "code",
   "execution_count": 67,
   "id": "5ffd51f6-971c-467c-89eb-0f210ca4a1ca",
   "metadata": {},
   "outputs": [
    {
     "data": {
      "text/plain": [
       "TtestResult(statistic=0.0, pvalue=1.0, df=19)"
      ]
     },
     "execution_count": 67,
     "metadata": {},
     "output_type": "execute_result"
    }
   ],
   "source": [
    "scipy.stats.ttest_1samp(cricket_score,27.4)"
   ]
  },
  {
   "cell_type": "code",
   "execution_count": 68,
   "id": "3fa14b97-7448-42d1-980b-5400e9a9a554",
   "metadata": {},
   "outputs": [],
   "source": [
    "p_value=scipy.stats.ttest_1samp(cricket_score,26)[1]"
   ]
  },
  {
   "cell_type": "code",
   "execution_count": 69,
   "id": "e7cef370-4984-4583-8747-288685771c28",
   "metadata": {},
   "outputs": [
    {
     "data": {
      "text/plain": [
       "0.6461790490703262"
      ]
     },
     "execution_count": 69,
     "metadata": {},
     "output_type": "execute_result"
    }
   ],
   "source": [
    "p_value"
   ]
  },
  {
   "cell_type": "code",
   "execution_count": 70,
   "id": "c02185e2-72b0-4654-b80a-cf8d88cc599d",
   "metadata": {},
   "outputs": [
    {
     "name": "stdout",
     "output_type": "stream",
     "text": [
      "accept the null hyphthesis\n"
     ]
    }
   ],
   "source": [
    "if p_value<=0.05:\n",
    "    print(\"reject the null hyphothesis\")\n",
    "\n",
    "else:\n",
    "    print(\"accept the null hyphthesis\")"
   ]
  },
  {
   "cell_type": "markdown",
   "id": "91359029-8898-43da-94ca-f271a1a6eeac",
   "metadata": {},
   "source": [
    "# two-sample t test(with respect to two independent sample)"
   ]
  },
  {
   "cell_type": "code",
   "execution_count": 71,
   "id": "ddc3f2b2-bf85-4ddf-8c66-e842ee5fbdae",
   "metadata": {},
   "outputs": [],
   "source": [
    "\n",
    "my_cricket_score=[22, 38, 29, 45, 48, 41, 40, 49, 47, 38, 20, 45, 46, 50, 21, 44, 29,36, 25, 24]\n",
    "\n",
    "virat_cricket_score=[33, 45, 23, 25, 46, 46, 46, 49, 49, 44, 44, 49, 25, 31, 25, 40, 30,20, 42, 37]"
   ]
  },
  {
   "cell_type": "code",
   "execution_count": 72,
   "id": "1058d155-b226-403e-8ca7-b6590b02af5e",
   "metadata": {},
   "outputs": [],
   "source": [
    "first_sample_mean=np.mean(my_cricket_score)"
   ]
  },
  {
   "cell_type": "code",
   "execution_count": 73,
   "id": "4da8b5b7-cf7a-4e11-b51f-af8f227a0a02",
   "metadata": {},
   "outputs": [
    {
     "data": {
      "text/plain": [
       "36.85"
      ]
     },
     "execution_count": 73,
     "metadata": {},
     "output_type": "execute_result"
    }
   ],
   "source": [
    "first_sample_mean\n"
   ]
  },
  {
   "cell_type": "code",
   "execution_count": 74,
   "id": "8db16841-5f9a-4a47-8013-7d0c1ed9c7e1",
   "metadata": {},
   "outputs": [],
   "source": [
    "second_sample_mean=np.mean(virat_cricket_score)"
   ]
  },
  {
   "cell_type": "code",
   "execution_count": 75,
   "id": "884218ae-6960-484d-b257-5f009d9dbb1f",
   "metadata": {},
   "outputs": [
    {
     "data": {
      "text/plain": [
       "37.45"
      ]
     },
     "execution_count": 75,
     "metadata": {},
     "output_type": "execute_result"
    }
   ],
   "source": [
    "second_sample_mean\n"
   ]
  },
  {
   "cell_type": "code",
   "execution_count": null,
   "id": "a165e03f-f6ee-4814-a2c0-efa8f512113d",
   "metadata": {},
   "outputs": [],
   "source": [
    "my_null_hyphthesis=both sample mean will be equal"
   ]
  },
  {
   "cell_type": "code",
   "execution_count": 77,
   "id": "a4d2f65a-4881-4c38-96f0-b5d0aa5a30a1",
   "metadata": {},
   "outputs": [],
   "source": [
    "t_stats,pvalue=scipy.stats.ttest_ind(my_cricket_score,virat_cricket_score)"
   ]
  },
  {
   "cell_type": "code",
   "execution_count": 78,
   "id": "42f1691d-438b-4638-9877-b0642206dee1",
   "metadata": {},
   "outputs": [
    {
     "data": {
      "text/plain": [
       "0.852719896255562"
      ]
     },
     "execution_count": 78,
     "metadata": {},
     "output_type": "execute_result"
    }
   ],
   "source": [
    "pvalue"
   ]
  },
  {
   "cell_type": "code",
   "execution_count": 79,
   "id": "ebccddd7-a913-4314-b66f-f3ea816d8360",
   "metadata": {},
   "outputs": [
    {
     "name": "stdout",
     "output_type": "stream",
     "text": [
      "Accept the null hyphothesis\n"
     ]
    }
   ],
   "source": [
    "if pvalue<=0.05:\n",
    "    print(\"reject the null hyphothesis\")\n",
    "else:\n",
    "    print(\"Accept the null hyphothesis\")"
   ]
  },
  {
   "cell_type": "code",
   "execution_count": 80,
   "id": "42a4ab37-b938-433e-af6a-add9760b504b",
   "metadata": {},
   "outputs": [],
   "source": [
    "import random\n",
    "population=[]\n",
    "for i in range(1,51):\n",
    "    population.append(random.randint(10,80))"
   ]
  },
  {
   "cell_type": "code",
   "execution_count": 81,
   "id": "f5730ccd-cbda-4883-8a96-bbdd71d61f29",
   "metadata": {},
   "outputs": [
    {
     "data": {
      "text/plain": [
       "50"
      ]
     },
     "execution_count": 81,
     "metadata": {},
     "output_type": "execute_result"
    }
   ],
   "source": [
    "len(population)"
   ]
  },
  {
   "cell_type": "code",
   "execution_count": 82,
   "id": "9b4afe32-fb71-4b45-813e-61abd3b22f50",
   "metadata": {},
   "outputs": [],
   "source": [
    "my_cricket_score_from_first_inning=np.random.choice(population,size=20)"
   ]
  },
  {
   "cell_type": "code",
   "execution_count": 83,
   "id": "0aab8bd4-3c3b-4bb7-9564-21ccfc97632a",
   "metadata": {},
   "outputs": [],
   "source": [
    "my_cricket_score_from_second_inning=np.random.choice(population,size=20)"
   ]
  },
  {
   "cell_type": "markdown",
   "id": "ac6ffacb-e21d-4735-b884-fb3c2f5066a3",
   "metadata": {},
   "source": [
    "# paired sample t test"
   ]
  },
  {
   "cell_type": "code",
   "execution_count": 84,
   "id": "0751c066-7761-4b6f-8978-9b6740764d21",
   "metadata": {},
   "outputs": [
    {
     "name": "stdout",
     "output_type": "stream",
     "text": [
      "[33 29 62 31 42 11 32 78 78 41 64 45 53 65 62 12 47 26 51 38]\n",
      "[31 65 22 26 75 38 74 53 29 31 38 71 31 29 74 32 22 29 13 80]\n"
     ]
    }
   ],
   "source": [
    "\n",
    "# take a sample from sample population on different time interval\n",
    "\n",
    "print(my_cricket_score_from_first_inning)\n",
    "print(my_cricket_score_from_second_inning)"
   ]
  },
  {
   "cell_type": "code",
   "execution_count": 85,
   "id": "a4251d33-1182-4e3f-9da3-0ccd6c4583f6",
   "metadata": {},
   "outputs": [],
   "source": [
    "my_cricket_score_from_first_inning=[8,7,14,9,17,12,46,29,8,26,19,31,46,24,44,10,13,42,25,28]"
   ]
  },
  {
   "cell_type": "code",
   "execution_count": 86,
   "id": "8bb41dc4-8798-4be9-a5c5-f2d44db034a6",
   "metadata": {},
   "outputs": [
    {
     "data": {
      "text/plain": [
       "22.9"
      ]
     },
     "execution_count": 86,
     "metadata": {},
     "output_type": "execute_result"
    }
   ],
   "source": [
    "np.mean(my_cricket_score_from_first_inning)"
   ]
  },
  {
   "cell_type": "code",
   "execution_count": 87,
   "id": "e199bd59-9d5a-43f8-ace6-9904a3a68347",
   "metadata": {},
   "outputs": [
    {
     "data": {
      "text/plain": [
       "43.15"
      ]
     },
     "execution_count": 87,
     "metadata": {},
     "output_type": "execute_result"
    }
   ],
   "source": [
    "np.mean(my_cricket_score_from_second_inning)"
   ]
  },
  {
   "cell_type": "code",
   "execution_count": 88,
   "id": "a5c2796b-0967-4618-b14b-9c432458c342",
   "metadata": {},
   "outputs": [],
   "source": [
    "#my_null_hyphthesis=both sample mean will be equal"
   ]
  },
  {
   "cell_type": "code",
   "execution_count": 89,
   "id": "ab1548e9-1ee9-495b-8690-55d6e42a22b7",
   "metadata": {},
   "outputs": [],
   "source": [
    "t_stats,p_value=scipy.stats.ttest_rel(my_cricket_score_from_first_inning,my_cricket_score_from_second_inning)"
   ]
  },
  {
   "cell_type": "code",
   "execution_count": 90,
   "id": "033842c2-fdfb-49fe-90c7-5bde79922dd9",
   "metadata": {},
   "outputs": [
    {
     "data": {
      "text/plain": [
       "0.0004274049348117165"
      ]
     },
     "execution_count": 90,
     "metadata": {},
     "output_type": "execute_result"
    }
   ],
   "source": [
    "p_value"
   ]
  },
  {
   "cell_type": "code",
   "execution_count": 91,
   "id": "b1f43557-a4ce-47c2-bf2f-57091eb04c57",
   "metadata": {},
   "outputs": [
    {
     "name": "stdout",
     "output_type": "stream",
     "text": [
      "reject the null hyphothesis\n"
     ]
    }
   ],
   "source": [
    "if p_value<=0.05:\n",
    "    print(\"reject the null hyphothesis\")\n",
    "else:\n",
    "    print(\"Accept the null hyphothesis\")"
   ]
  },
  {
   "cell_type": "markdown",
   "id": "69046884-6563-4b03-9773-a1f47516df0b",
   "metadata": {},
   "source": [
    "# The weights of 25 obese people were taken before enrolling them into the nutrition camp. The population mean weight is found to be 45 kg before starting the camp. After finishing the camp, for the same 25 people, the sample mean was found to be 75 with a standard deviation of 25. Did the fitness camp work?"
   ]
  },
  {
   "cell_type": "markdown",
   "id": "19efa8d3-44ba-421a-bcea-654a68b276f1",
   "metadata": {},
   "source": [
    "h0===> mu=45(sample mean is a true/population mean)\n",
    "h1===> mu != 45 (two tail test)(sample mean is not a true/populatin mean)"
   ]
  },
  {
   "cell_type": "code",
   "execution_count": 93,
   "id": "4d2d8d84-9f8e-4cc2-b9ee-8439b1a7c433",
   "metadata": {},
   "outputs": [],
   "source": [
    "n=25\n",
    "populaiton_mean=45\n",
    "sample_mean=75\n",
    "sample_std=25"
   ]
  },
  {
   "cell_type": "code",
   "execution_count": 94,
   "id": "933b60ac-7dfd-4417-a48a-f6b1e1f24b7a",
   "metadata": {},
   "outputs": [],
   "source": [
    "t_stats=(sample_mean-populaiton_mean)/(sample_std/np.sqrt(n))"
   ]
  },
  {
   "cell_type": "code",
   "execution_count": 95,
   "id": "107b2722-532f-4944-8474-6d83f784843b",
   "metadata": {},
   "outputs": [
    {
     "data": {
      "text/plain": [
       "6.0"
      ]
     },
     "execution_count": 95,
     "metadata": {},
     "output_type": "execute_result"
    }
   ],
   "source": [
    "t_stats\n"
   ]
  },
  {
   "cell_type": "code",
   "execution_count": 96,
   "id": "e4038ed0-a6cc-46a4-8eee-02a921c2415e",
   "metadata": {},
   "outputs": [
    {
     "data": {
      "text/plain": [
       "30"
      ]
     },
     "execution_count": 96,
     "metadata": {},
     "output_type": "execute_result"
    }
   ],
   "source": [
    "sample_mean-populaiton_mean"
   ]
  },
  {
   "cell_type": "code",
   "execution_count": 97,
   "id": "8745a23a-4745-402c-9b29-eefad641191c",
   "metadata": {},
   "outputs": [],
   "source": [
    "df=n-1"
   ]
  },
  {
   "cell_type": "code",
   "execution_count": 98,
   "id": "8dcf020f-5bd0-4892-bc72-0654e3ad7cab",
   "metadata": {},
   "outputs": [
    {
     "data": {
      "text/plain": [
       "24"
      ]
     },
     "execution_count": 98,
     "metadata": {},
     "output_type": "execute_result"
    }
   ],
   "source": [
    "df"
   ]
  },
  {
   "cell_type": "code",
   "execution_count": 99,
   "id": "e7de0862-b33a-4e33-b7f9-7cdbe2070554",
   "metadata": {},
   "outputs": [],
   "source": [
    "alpha=0.05"
   ]
  },
  {
   "cell_type": "code",
   "execution_count": 100,
   "id": "7f19f3aa-96b4-4390-ae9a-d77bc6126d09",
   "metadata": {},
   "outputs": [],
   "source": [
    "CI=0.95"
   ]
  },
  {
   "cell_type": "code",
   "execution_count": 101,
   "id": "90b84f36-b8c7-4230-824b-fc315a727582",
   "metadata": {},
   "outputs": [],
   "source": [
    "critical_value=stats.t.ppf(CI,df)"
   ]
  },
  {
   "cell_type": "code",
   "execution_count": 102,
   "id": "1886a410-f679-4e32-ad82-2625f0e7b715",
   "metadata": {},
   "outputs": [
    {
     "data": {
      "text/plain": [
       "1.7108820799094275"
      ]
     },
     "execution_count": 102,
     "metadata": {},
     "output_type": "execute_result"
    }
   ],
   "source": [
    "critical_value"
   ]
  },
  {
   "cell_type": "code",
   "execution_count": 103,
   "id": "dd954fe4-29af-4443-9d45-9197e60463a6",
   "metadata": {},
   "outputs": [
    {
     "name": "stdout",
     "output_type": "stream",
     "text": [
      "t-stats 6.0\n",
      "crtical value 1.7108820799094275\n"
     ]
    }
   ],
   "source": [
    "print(\"t-stats\",t_stats)\n",
    "print(\"crtical value\",critical_value)"
   ]
  },
  {
   "cell_type": "code",
   "execution_count": 104,
   "id": "8c52cac5-cc6c-4599-ab84-c56ec58d1b84",
   "metadata": {},
   "outputs": [],
   "source": [
    "p_value=1-stats.t.cdf(t_stats,df)"
   ]
  },
  {
   "cell_type": "code",
   "execution_count": 105,
   "id": "e526358b-8630-4b28-bf08-1e81cca4903f",
   "metadata": {},
   "outputs": [],
   "source": [
    "dataset=sns.load_dataset('tips')"
   ]
  },
  {
   "cell_type": "code",
   "execution_count": 106,
   "id": "ec8c3d8e-3a04-4dbf-a99e-7892131464f4",
   "metadata": {},
   "outputs": [
    {
     "data": {
      "text/html": [
       "<div>\n",
       "<style scoped>\n",
       "    .dataframe tbody tr th:only-of-type {\n",
       "        vertical-align: middle;\n",
       "    }\n",
       "\n",
       "    .dataframe tbody tr th {\n",
       "        vertical-align: top;\n",
       "    }\n",
       "\n",
       "    .dataframe thead th {\n",
       "        text-align: right;\n",
       "    }\n",
       "</style>\n",
       "<table border=\"1\" class=\"dataframe\">\n",
       "  <thead>\n",
       "    <tr style=\"text-align: right;\">\n",
       "      <th></th>\n",
       "      <th>total_bill</th>\n",
       "      <th>tip</th>\n",
       "      <th>sex</th>\n",
       "      <th>smoker</th>\n",
       "      <th>day</th>\n",
       "      <th>time</th>\n",
       "      <th>size</th>\n",
       "    </tr>\n",
       "  </thead>\n",
       "  <tbody>\n",
       "    <tr>\n",
       "      <th>0</th>\n",
       "      <td>16.99</td>\n",
       "      <td>1.01</td>\n",
       "      <td>Female</td>\n",
       "      <td>No</td>\n",
       "      <td>Sun</td>\n",
       "      <td>Dinner</td>\n",
       "      <td>2</td>\n",
       "    </tr>\n",
       "    <tr>\n",
       "      <th>1</th>\n",
       "      <td>10.34</td>\n",
       "      <td>1.66</td>\n",
       "      <td>Male</td>\n",
       "      <td>No</td>\n",
       "      <td>Sun</td>\n",
       "      <td>Dinner</td>\n",
       "      <td>3</td>\n",
       "    </tr>\n",
       "    <tr>\n",
       "      <th>2</th>\n",
       "      <td>21.01</td>\n",
       "      <td>3.50</td>\n",
       "      <td>Male</td>\n",
       "      <td>No</td>\n",
       "      <td>Sun</td>\n",
       "      <td>Dinner</td>\n",
       "      <td>3</td>\n",
       "    </tr>\n",
       "    <tr>\n",
       "      <th>3</th>\n",
       "      <td>23.68</td>\n",
       "      <td>3.31</td>\n",
       "      <td>Male</td>\n",
       "      <td>No</td>\n",
       "      <td>Sun</td>\n",
       "      <td>Dinner</td>\n",
       "      <td>2</td>\n",
       "    </tr>\n",
       "    <tr>\n",
       "      <th>4</th>\n",
       "      <td>24.59</td>\n",
       "      <td>3.61</td>\n",
       "      <td>Female</td>\n",
       "      <td>No</td>\n",
       "      <td>Sun</td>\n",
       "      <td>Dinner</td>\n",
       "      <td>4</td>\n",
       "    </tr>\n",
       "    <tr>\n",
       "      <th>...</th>\n",
       "      <td>...</td>\n",
       "      <td>...</td>\n",
       "      <td>...</td>\n",
       "      <td>...</td>\n",
       "      <td>...</td>\n",
       "      <td>...</td>\n",
       "      <td>...</td>\n",
       "    </tr>\n",
       "    <tr>\n",
       "      <th>239</th>\n",
       "      <td>29.03</td>\n",
       "      <td>5.92</td>\n",
       "      <td>Male</td>\n",
       "      <td>No</td>\n",
       "      <td>Sat</td>\n",
       "      <td>Dinner</td>\n",
       "      <td>3</td>\n",
       "    </tr>\n",
       "    <tr>\n",
       "      <th>240</th>\n",
       "      <td>27.18</td>\n",
       "      <td>2.00</td>\n",
       "      <td>Female</td>\n",
       "      <td>Yes</td>\n",
       "      <td>Sat</td>\n",
       "      <td>Dinner</td>\n",
       "      <td>2</td>\n",
       "    </tr>\n",
       "    <tr>\n",
       "      <th>241</th>\n",
       "      <td>22.67</td>\n",
       "      <td>2.00</td>\n",
       "      <td>Male</td>\n",
       "      <td>Yes</td>\n",
       "      <td>Sat</td>\n",
       "      <td>Dinner</td>\n",
       "      <td>2</td>\n",
       "    </tr>\n",
       "    <tr>\n",
       "      <th>242</th>\n",
       "      <td>17.82</td>\n",
       "      <td>1.75</td>\n",
       "      <td>Male</td>\n",
       "      <td>No</td>\n",
       "      <td>Sat</td>\n",
       "      <td>Dinner</td>\n",
       "      <td>2</td>\n",
       "    </tr>\n",
       "    <tr>\n",
       "      <th>243</th>\n",
       "      <td>18.78</td>\n",
       "      <td>3.00</td>\n",
       "      <td>Female</td>\n",
       "      <td>No</td>\n",
       "      <td>Thur</td>\n",
       "      <td>Dinner</td>\n",
       "      <td>2</td>\n",
       "    </tr>\n",
       "  </tbody>\n",
       "</table>\n",
       "<p>244 rows × 7 columns</p>\n",
       "</div>"
      ],
      "text/plain": [
       "     total_bill   tip     sex smoker   day    time  size\n",
       "0         16.99  1.01  Female     No   Sun  Dinner     2\n",
       "1         10.34  1.66    Male     No   Sun  Dinner     3\n",
       "2         21.01  3.50    Male     No   Sun  Dinner     3\n",
       "3         23.68  3.31    Male     No   Sun  Dinner     2\n",
       "4         24.59  3.61  Female     No   Sun  Dinner     4\n",
       "..          ...   ...     ...    ...   ...     ...   ...\n",
       "239       29.03  5.92    Male     No   Sat  Dinner     3\n",
       "240       27.18  2.00  Female    Yes   Sat  Dinner     2\n",
       "241       22.67  2.00    Male    Yes   Sat  Dinner     2\n",
       "242       17.82  1.75    Male     No   Sat  Dinner     2\n",
       "243       18.78  3.00  Female     No  Thur  Dinner     2\n",
       "\n",
       "[244 rows x 7 columns]"
      ]
     },
     "execution_count": 106,
     "metadata": {},
     "output_type": "execute_result"
    }
   ],
   "source": [
    "dataset"
   ]
  },
  {
   "cell_type": "code",
   "execution_count": 107,
   "id": "387983bf-7571-49a7-a317-f1ba43edd5cc",
   "metadata": {},
   "outputs": [
    {
     "name": "stdout",
     "output_type": "stream",
     "text": [
      "<class 'pandas.core.frame.DataFrame'>\n",
      "RangeIndex: 244 entries, 0 to 243\n",
      "Data columns (total 7 columns):\n",
      " #   Column      Non-Null Count  Dtype   \n",
      "---  ------      --------------  -----   \n",
      " 0   total_bill  244 non-null    float64 \n",
      " 1   tip         244 non-null    float64 \n",
      " 2   sex         244 non-null    category\n",
      " 3   smoker      244 non-null    category\n",
      " 4   day         244 non-null    category\n",
      " 5   time        244 non-null    category\n",
      " 6   size        244 non-null    int64   \n",
      "dtypes: category(4), float64(2), int64(1)\n",
      "memory usage: 7.4 KB\n"
     ]
    }
   ],
   "source": [
    "dataset.info()"
   ]
  },
  {
   "cell_type": "code",
   "execution_count": 108,
   "id": "a4ab7fd9-fbe8-47d9-9ef1-763ec4db664b",
   "metadata": {},
   "outputs": [
    {
     "data": {
      "text/plain": [
       "Index(['total_bill', 'tip', 'sex', 'smoker', 'day', 'time', 'size'], dtype='object')"
      ]
     },
     "execution_count": 108,
     "metadata": {},
     "output_type": "execute_result"
    }
   ],
   "source": [
    "dataset.columns"
   ]
  },
  {
   "cell_type": "code",
   "execution_count": 109,
   "id": "1d4f0d4d-9969-4ba7-a3a0-6425afb524c7",
   "metadata": {},
   "outputs": [
    {
     "data": {
      "text/html": [
       "<div>\n",
       "<style scoped>\n",
       "    .dataframe tbody tr th:only-of-type {\n",
       "        vertical-align: middle;\n",
       "    }\n",
       "\n",
       "    .dataframe tbody tr th {\n",
       "        vertical-align: top;\n",
       "    }\n",
       "\n",
       "    .dataframe thead th {\n",
       "        text-align: right;\n",
       "    }\n",
       "</style>\n",
       "<table border=\"1\" class=\"dataframe\">\n",
       "  <thead>\n",
       "    <tr style=\"text-align: right;\">\n",
       "      <th></th>\n",
       "      <th>total_bill</th>\n",
       "      <th>tip</th>\n",
       "      <th>sex</th>\n",
       "      <th>smoker</th>\n",
       "      <th>day</th>\n",
       "      <th>time</th>\n",
       "      <th>size</th>\n",
       "    </tr>\n",
       "  </thead>\n",
       "  <tbody>\n",
       "    <tr>\n",
       "      <th>0</th>\n",
       "      <td>16.99</td>\n",
       "      <td>1.01</td>\n",
       "      <td>Female</td>\n",
       "      <td>No</td>\n",
       "      <td>Sun</td>\n",
       "      <td>Dinner</td>\n",
       "      <td>2</td>\n",
       "    </tr>\n",
       "    <tr>\n",
       "      <th>1</th>\n",
       "      <td>10.34</td>\n",
       "      <td>1.66</td>\n",
       "      <td>Male</td>\n",
       "      <td>No</td>\n",
       "      <td>Sun</td>\n",
       "      <td>Dinner</td>\n",
       "      <td>3</td>\n",
       "    </tr>\n",
       "    <tr>\n",
       "      <th>2</th>\n",
       "      <td>21.01</td>\n",
       "      <td>3.50</td>\n",
       "      <td>Male</td>\n",
       "      <td>No</td>\n",
       "      <td>Sun</td>\n",
       "      <td>Dinner</td>\n",
       "      <td>3</td>\n",
       "    </tr>\n",
       "    <tr>\n",
       "      <th>3</th>\n",
       "      <td>23.68</td>\n",
       "      <td>3.31</td>\n",
       "      <td>Male</td>\n",
       "      <td>No</td>\n",
       "      <td>Sun</td>\n",
       "      <td>Dinner</td>\n",
       "      <td>2</td>\n",
       "    </tr>\n",
       "    <tr>\n",
       "      <th>4</th>\n",
       "      <td>24.59</td>\n",
       "      <td>3.61</td>\n",
       "      <td>Female</td>\n",
       "      <td>No</td>\n",
       "      <td>Sun</td>\n",
       "      <td>Dinner</td>\n",
       "      <td>4</td>\n",
       "    </tr>\n",
       "  </tbody>\n",
       "</table>\n",
       "</div>"
      ],
      "text/plain": [
       "   total_bill   tip     sex smoker  day    time  size\n",
       "0       16.99  1.01  Female     No  Sun  Dinner     2\n",
       "1       10.34  1.66    Male     No  Sun  Dinner     3\n",
       "2       21.01  3.50    Male     No  Sun  Dinner     3\n",
       "3       23.68  3.31    Male     No  Sun  Dinner     2\n",
       "4       24.59  3.61  Female     No  Sun  Dinner     4"
      ]
     },
     "execution_count": 109,
     "metadata": {},
     "output_type": "execute_result"
    }
   ],
   "source": [
    "dataset.head()"
   ]
  },
  {
   "cell_type": "code",
   "execution_count": 110,
   "id": "6fc3d881-c2e2-4a6f-b9ee-9b4b573731e2",
   "metadata": {},
   "outputs": [
    {
     "data": {
      "text/html": [
       "<div>\n",
       "<style scoped>\n",
       "    .dataframe tbody tr th:only-of-type {\n",
       "        vertical-align: middle;\n",
       "    }\n",
       "\n",
       "    .dataframe tbody tr th {\n",
       "        vertical-align: top;\n",
       "    }\n",
       "\n",
       "    .dataframe thead th {\n",
       "        text-align: right;\n",
       "    }\n",
       "</style>\n",
       "<table border=\"1\" class=\"dataframe\">\n",
       "  <thead>\n",
       "    <tr style=\"text-align: right;\">\n",
       "      <th></th>\n",
       "      <th>sex</th>\n",
       "      <th>smoker</th>\n",
       "    </tr>\n",
       "  </thead>\n",
       "  <tbody>\n",
       "    <tr>\n",
       "      <th>0</th>\n",
       "      <td>Female</td>\n",
       "      <td>No</td>\n",
       "    </tr>\n",
       "    <tr>\n",
       "      <th>1</th>\n",
       "      <td>Male</td>\n",
       "      <td>No</td>\n",
       "    </tr>\n",
       "    <tr>\n",
       "      <th>2</th>\n",
       "      <td>Male</td>\n",
       "      <td>No</td>\n",
       "    </tr>\n",
       "    <tr>\n",
       "      <th>3</th>\n",
       "      <td>Male</td>\n",
       "      <td>No</td>\n",
       "    </tr>\n",
       "    <tr>\n",
       "      <th>4</th>\n",
       "      <td>Female</td>\n",
       "      <td>No</td>\n",
       "    </tr>\n",
       "    <tr>\n",
       "      <th>...</th>\n",
       "      <td>...</td>\n",
       "      <td>...</td>\n",
       "    </tr>\n",
       "    <tr>\n",
       "      <th>239</th>\n",
       "      <td>Male</td>\n",
       "      <td>No</td>\n",
       "    </tr>\n",
       "    <tr>\n",
       "      <th>240</th>\n",
       "      <td>Female</td>\n",
       "      <td>Yes</td>\n",
       "    </tr>\n",
       "    <tr>\n",
       "      <th>241</th>\n",
       "      <td>Male</td>\n",
       "      <td>Yes</td>\n",
       "    </tr>\n",
       "    <tr>\n",
       "      <th>242</th>\n",
       "      <td>Male</td>\n",
       "      <td>No</td>\n",
       "    </tr>\n",
       "    <tr>\n",
       "      <th>243</th>\n",
       "      <td>Female</td>\n",
       "      <td>No</td>\n",
       "    </tr>\n",
       "  </tbody>\n",
       "</table>\n",
       "<p>244 rows × 2 columns</p>\n",
       "</div>"
      ],
      "text/plain": [
       "        sex smoker\n",
       "0    Female     No\n",
       "1      Male     No\n",
       "2      Male     No\n",
       "3      Male     No\n",
       "4    Female     No\n",
       "..      ...    ...\n",
       "239    Male     No\n",
       "240  Female    Yes\n",
       "241    Male    Yes\n",
       "242    Male     No\n",
       "243  Female     No\n",
       "\n",
       "[244 rows x 2 columns]"
      ]
     },
     "execution_count": 110,
     "metadata": {},
     "output_type": "execute_result"
    }
   ],
   "source": [
    "dataset[[\"sex\",\"smoker\"]]"
   ]
  },
  {
   "cell_type": "code",
   "execution_count": 111,
   "id": "e5b48923-4187-4362-b6a6-cc8c92d0641a",
   "metadata": {},
   "outputs": [],
   "source": [
    "import pandas as pd\n",
    "dataset_table=pd.crosstab(dataset[\"sex\"],dataset[\"smoker\"])"
   ]
  },
  {
   "cell_type": "code",
   "execution_count": 112,
   "id": "d610b930-a187-4826-86c9-b651e327805a",
   "metadata": {},
   "outputs": [
    {
     "data": {
      "text/html": [
       "<div>\n",
       "<style scoped>\n",
       "    .dataframe tbody tr th:only-of-type {\n",
       "        vertical-align: middle;\n",
       "    }\n",
       "\n",
       "    .dataframe tbody tr th {\n",
       "        vertical-align: top;\n",
       "    }\n",
       "\n",
       "    .dataframe thead th {\n",
       "        text-align: right;\n",
       "    }\n",
       "</style>\n",
       "<table border=\"1\" class=\"dataframe\">\n",
       "  <thead>\n",
       "    <tr style=\"text-align: right;\">\n",
       "      <th>smoker</th>\n",
       "      <th>Yes</th>\n",
       "      <th>No</th>\n",
       "    </tr>\n",
       "    <tr>\n",
       "      <th>sex</th>\n",
       "      <th></th>\n",
       "      <th></th>\n",
       "    </tr>\n",
       "  </thead>\n",
       "  <tbody>\n",
       "    <tr>\n",
       "      <th>Male</th>\n",
       "      <td>60</td>\n",
       "      <td>97</td>\n",
       "    </tr>\n",
       "    <tr>\n",
       "      <th>Female</th>\n",
       "      <td>33</td>\n",
       "      <td>54</td>\n",
       "    </tr>\n",
       "  </tbody>\n",
       "</table>\n",
       "</div>"
      ],
      "text/plain": [
       "smoker  Yes  No\n",
       "sex            \n",
       "Male     60  97\n",
       "Female   33  54"
      ]
     },
     "execution_count": 112,
     "metadata": {},
     "output_type": "execute_result"
    }
   ],
   "source": [
    "dataset_table"
   ]
  },
  {
   "cell_type": "code",
   "execution_count": 113,
   "id": "20dbecd5-562a-4a26-ae54-0b184734cb47",
   "metadata": {},
   "outputs": [],
   "source": [
    "dataset_array=dataset_table.values"
   ]
  },
  {
   "cell_type": "code",
   "execution_count": 115,
   "id": "24e434fa-54c2-4a81-82bb-38565550d23b",
   "metadata": {},
   "outputs": [
    {
     "data": {
      "text/plain": [
       "array([[60, 97],\n",
       "       [33, 54]], dtype=int64)"
      ]
     },
     "execution_count": 115,
     "metadata": {},
     "output_type": "execute_result"
    }
   ],
   "source": [
    "dataset_array"
   ]
  },
  {
   "cell_type": "code",
   "execution_count": 116,
   "id": "b2e87220-35da-4040-8301-ddc3806ad1a3",
   "metadata": {},
   "outputs": [],
   "source": [
    "observed_value=dataset_array"
   ]
  },
  {
   "cell_type": "code",
   "execution_count": 117,
   "id": "1d92253c-7dc0-4994-b9e8-d21a66a44ffb",
   "metadata": {},
   "outputs": [],
   "source": [
    "import scipy.stats as stats"
   ]
  },
  {
   "cell_type": "code",
   "execution_count": 118,
   "id": "f5f1c2df-ff1e-4308-a7bb-1438cfc735a8",
   "metadata": {},
   "outputs": [],
   "source": [
    "stats_test,p,dof,Expected_Value=stats.chi2_contingency(dataset_array)"
   ]
  },
  {
   "cell_type": "code",
   "execution_count": 119,
   "id": "4ddeaed0-eeac-4281-84f2-063fc90952b3",
   "metadata": {},
   "outputs": [
    {
     "data": {
      "text/plain": [
       "array([[59.84016393, 97.15983607],\n",
       "       [33.15983607, 53.84016393]])"
      ]
     },
     "execution_count": 119,
     "metadata": {},
     "output_type": "execute_result"
    }
   ],
   "source": [
    "Expected_Value"
   ]
  },
  {
   "cell_type": "code",
   "execution_count": 120,
   "id": "2cd3c87e-79e5-4995-8a1d-dc009b1790d1",
   "metadata": {},
   "outputs": [],
   "source": [
    "no_of_col=dataset_table.iloc[0:2,0]"
   ]
  },
  {
   "cell_type": "code",
   "execution_count": 121,
   "id": "a22592a2-94d6-4f29-98f3-7cdce76a0bbf",
   "metadata": {},
   "outputs": [
    {
     "data": {
      "text/plain": [
       "2"
      ]
     },
     "execution_count": 121,
     "metadata": {},
     "output_type": "execute_result"
    }
   ],
   "source": [
    "len(no_of_col)"
   ]
  },
  {
   "cell_type": "code",
   "execution_count": 122,
   "id": "cefbc03b-9862-48ed-98ac-4cad3ebe35df",
   "metadata": {},
   "outputs": [],
   "source": [
    "no_of_row=dataset_table.iloc[0,0:2]"
   ]
  },
  {
   "cell_type": "code",
   "execution_count": 123,
   "id": "8ef78e7b-7506-4210-8f9b-fc64defd0fbc",
   "metadata": {},
   "outputs": [
    {
     "data": {
      "text/plain": [
       "2"
      ]
     },
     "execution_count": 123,
     "metadata": {},
     "output_type": "execute_result"
    }
   ],
   "source": [
    "len(no_of_row)"
   ]
  },
  {
   "cell_type": "code",
   "execution_count": 124,
   "id": "a6455e68-9dae-4f4e-bb6f-4348b6fcf28f",
   "metadata": {},
   "outputs": [],
   "source": [
    "dof=(len(no_of_col)-1)*(len(no_of_row)-1)"
   ]
  },
  {
   "cell_type": "code",
   "execution_count": 125,
   "id": "02c5930c-4ff2-4805-bd1a-83e9326130b3",
   "metadata": {},
   "outputs": [
    {
     "data": {
      "text/plain": [
       "1"
      ]
     },
     "execution_count": 125,
     "metadata": {},
     "output_type": "execute_result"
    }
   ],
   "source": [
    "dof"
   ]
  },
  {
   "cell_type": "markdown",
   "id": "6a1e7155-5a76-4022-bd48-63029a758067",
   "metadata": {},
   "source": [
    "# Chai square test"
   ]
  },
  {
   "cell_type": "code",
   "execution_count": 127,
   "id": "a0c7a798-3172-476a-8837-34ee1dc0ec2d",
   "metadata": {},
   "outputs": [],
   "source": [
    "from scipy.stats import chi2\n",
    "chisqure=sum([(o-e)**2/e for o,e in zip(observed_value,Expected_Value)])"
   ]
  },
  {
   "cell_type": "code",
   "execution_count": 128,
   "id": "4e0cf101-d90e-4ffa-bbe7-0af74a14e484",
   "metadata": {},
   "outputs": [
    {
     "name": "stdout",
     "output_type": "stream",
     "text": [
      "[60 97] [59.84016393 97.15983607]\n",
      "[33 54] [33.15983607 53.84016393]\n"
     ]
    }
   ],
   "source": [
    " for o,e in zip(observed_value,Expected_Value):\n",
    "        print(o,e)"
   ]
  },
  {
   "cell_type": "code",
   "execution_count": 129,
   "id": "5813c6cf-c255-48f9-b1a8-11a778464216",
   "metadata": {},
   "outputs": [
    {
     "data": {
      "text/plain": [
       "array([0.00119737, 0.00073745])"
      ]
     },
     "execution_count": 129,
     "metadata": {},
     "output_type": "execute_result"
    }
   ],
   "source": [
    "chisqure"
   ]
  },
  {
   "cell_type": "code",
   "execution_count": 130,
   "id": "e4c78953-e30d-4987-805e-10465c6fb735",
   "metadata": {},
   "outputs": [],
   "source": [
    "chisqurestats=chisqure[0]+chisqure[1]"
   ]
  },
  {
   "cell_type": "code",
   "execution_count": 131,
   "id": "07529a28-dd69-4920-846e-969d60023301",
   "metadata": {},
   "outputs": [
    {
     "data": {
      "text/plain": [
       "0.001934818536627623"
      ]
     },
     "execution_count": 131,
     "metadata": {},
     "output_type": "execute_result"
    }
   ],
   "source": [
    "chisqurestats"
   ]
  },
  {
   "cell_type": "code",
   "execution_count": 132,
   "id": "269608bc-d748-4e2a-af13-27d24bea8a1f",
   "metadata": {},
   "outputs": [],
   "source": [
    "alpha=0.5\n",
    "Ci=0.95"
   ]
  },
  {
   "cell_type": "code",
   "execution_count": 134,
   "id": "0e36f309-aceb-4ec5-9184-17ee6bde53c0",
   "metadata": {},
   "outputs": [],
   "source": [
    "# Critical value\n",
    "critical_chi_value=chi2.ppf(Ci,df=dof)\n",
    "\n"
   ]
  },
  {
   "cell_type": "code",
   "execution_count": 135,
   "id": "d616e58e-d1ab-4d61-88a1-5eaf16edc5e4",
   "metadata": {},
   "outputs": [
    {
     "data": {
      "text/plain": [
       "3.841458820694124"
      ]
     },
     "execution_count": 135,
     "metadata": {},
     "output_type": "execute_result"
    }
   ],
   "source": [
    "critical_chi_value"
   ]
  },
  {
   "cell_type": "code",
   "execution_count": 136,
   "id": "6752e824-515f-47e9-a384-9e9224d5e05e",
   "metadata": {},
   "outputs": [
    {
     "name": "stdout",
     "output_type": "stream",
     "text": [
      "accept the null hyphothesis there is no relation between two categorical variable\n"
     ]
    }
   ],
   "source": [
    "if chisqurestats>=critical_chi_value:\n",
    "    print(\" reject the null hyphothesis, there is a relatiuonship between two categorical variable\")\n",
    "else:\n",
    "    print(\"accept the null hyphothesis there is no relation between two categorical variable\")"
   ]
  },
  {
   "cell_type": "code",
   "execution_count": null,
   "id": "878dc5e6-b795-4ecd-9976-a616f135fc24",
   "metadata": {},
   "outputs": [],
   "source": []
  }
 ],
 "metadata": {
  "kernelspec": {
   "display_name": "Python 3 (ipykernel)",
   "language": "python",
   "name": "python3"
  },
  "language_info": {
   "codemirror_mode": {
    "name": "ipython",
    "version": 3
   },
   "file_extension": ".py",
   "mimetype": "text/x-python",
   "name": "python",
   "nbconvert_exporter": "python",
   "pygments_lexer": "ipython3",
   "version": "3.11.7"
  },
  "widgets": {
   "application/vnd.jupyter.widget-state+json": {
    "state": {},
    "version_major": 2,
    "version_minor": 0
   }
  }
 },
 "nbformat": 4,
 "nbformat_minor": 5
}
